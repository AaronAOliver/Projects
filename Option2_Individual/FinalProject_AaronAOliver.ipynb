{
 "cells": [
  {
   "cell_type": "markdown",
   "metadata": {},
   "source": [
    "# COGS 108 - Final Project "
   ]
  },
  {
   "cell_type": "markdown",
   "metadata": {},
   "source": [
    "# Overview"
   ]
  },
  {
   "cell_type": "markdown",
   "metadata": {},
   "source": [
    "For this assignment, I use Yelp data along with health inspection data for restaurants in North Carolina to determine how Yelp price tiers and health inspection scores relate to aggregate Yelp star ratings. In my analysis, I discovered that pricing tiers are a more important determinant in a restaurant's Yelp aggregate review score, although neither price nor health inspection account for much of the variability in review scores. For the correlations that we could observe, a more expensive pricing tier and better health inspection scores both have a slight positive correlation with increasing Yelp review scores."
   ]
  },
  {
   "cell_type": "markdown",
   "metadata": {},
   "source": [
    "# Name & GitHub ID\n",
    "\n",
    "- Name: Aaron Oliver\n",
    "- GitHub Username: AaronAOliver"
   ]
  },
  {
   "cell_type": "markdown",
   "metadata": {},
   "source": [
    "# Research Question"
   ]
  },
  {
   "cell_type": "markdown",
   "metadata": {},
   "source": [
    "For restaurants in North Carolina, is health inspection score or menu pricing tier a more important determinant in a restaurant's Yelp aggregate review score?"
   ]
  },
  {
   "cell_type": "markdown",
   "metadata": {},
   "source": [
    "## Background and Prior Work"
   ]
  },
  {
   "cell_type": "markdown",
   "metadata": {},
   "source": [
    "Yelp is a popular website where users can provide reviews for various businesses, particularly restauarants. Yelp reviews are on a scale of 1 to 5 stars, where half-star increments are also allowed. Positive Yelp reviews of businesses have been found to increase revenue, especially independent businesses that are not associated with a chain [1]. Yelp reviews are consistent across timeframes and locations [2], allowing us to compare aggregate Yelp reviews that combine star ratings from multiple years in multiple locations across North Carolina. Reviews also crowdsource an overall pricing tier for their menu, which is marked as a dollar sign (\\\\$) from 1 to 4 signs. \\\\$\\\\$\\\\$\\\\$ signifies the most expensive restaurants.\n",
    "\n",
    "Previous research suggests that the text associated with individual Yelp reviews can be used to predict health code violations in San Francisco [3]. In North Carolina, food safety inspections are performed at least annually, if not multiple times per year [4]. Restaurants must recieve a grade of at least 70 to remain open, while the highest grade of \"A\" is reserved for inspection scores of 90 or more [4]. However, these inspection results must be considered in the context of the people that perform the reviews and the workers of these businesses. Past research has shown that inspection frequency and safety violations are associated with the demographic makeup and socioeconomic status of the surrounding area [5].\n",
    "\n",
    "\n",
    "References (include links):\n",
    "- 1) Reviews, Reputation, and Revenue: The Case of Yelp.Com, https://papers.ssrn.com/sol3/papers.cfm?abstract_id=1928601\n",
    "- 2) Restaurant Ratings On Yelp Are Remarkably Consistent, No Matter Who’s Writing Them, When, And Where, https://blog.yelp.com/2018/09/restaurant-ratings-on-yelp-are-remarkably-consistent-no-matter-whos-writing-them-when-and-where\n",
    "- 3) Supplementing Public Health Inspection via Social Media, https://journals.plos.org/plosone/article?id=10.1371/journal.pone.0152117\n",
    "- 4) About the Inspection Process in Forsyth County, https://www.forsyth.cc/PublicHealth/EnvironmentalHealth/aboutInspections.aspx\n",
    "- 5) Inspection Frequency, Sociodemographic Factors, and Food Safety Violations in Chain and Nonchain Restaurants, Philadelphia, Pennsylvania, 2013-2014, https://www.ncbi.nlm.nih.gov/pmc/articles/PMC5349477/"
   ]
  },
  {
   "cell_type": "markdown",
   "metadata": {},
   "source": [
    "# Hypothesis\n"
   ]
  },
  {
   "cell_type": "markdown",
   "metadata": {},
   "source": [
    "I predict that price will be a more important determinant in a restaurant's Yelp review score than health inspection ratings. This is because customers directly interact with the prices of menu items when buying food, but may not notice the health and safety violations going on in a restaurant. Restaurants with poor health inspections scores may also try to hide these scores from customers in order to avoid a loss of business."
   ]
  },
  {
   "cell_type": "markdown",
   "metadata": {},
   "source": [
    "# Dataset(s)"
   ]
  },
  {
   "cell_type": "markdown",
   "metadata": {},
   "source": [
    "- Dataset Name: yelp.csv\n",
    "- Link to the dataset: https://raw.githubusercontent.com/AaronAOliver/Projects/master/Option2_Individual/yelp.csv\n",
    "- Number of observations: 3,688\n",
    "\n",
    "A comma separated collection of Yelp reviews for businesses in North Carolina. The important columns from this dataset are the addresses, the average star reviews (out of 5), and the price levels (\\\\$ [1], \\\\$\\\\$ [2], \\\\$\\\\$\\\\$ [3], or \\\\$\\\\$\\\\$\\\\$ [4]). Each observation is a specific business. We are not told where this dataset is from, but my prediction is that it comes from webscraping the Yelp website.\n",
    "\n",
    "- Dataset Name: intspections.csv\n",
    "- Link to the dataset: https://raw.githubusercontent.com/AaronAOliver/Projects/master/Option2_Individual/inspections.csv\n",
    "- Number of observations: 18,466\n",
    "\n",
    "A comma separated collection of health inspections for businesses in North Carolina. There can be multiple health inspections for the same business as observations. The important columns from this dataset are the addresses, the date of inspection, the type of facility, and the inspection score. Each observation is an individual instance of a health inspection. We are not told where this dataset is from, but my prediction is that it comes from a governmental website.\n",
    "\n",
    "To combine these two datasets, we will first only take the most recent health inspection determined by data of inspection in inspections.csv. Then, we will standardize addresses between yelp.csv and inspections.csv, such that an observation with the same address in yelp.csv and inspections.csv will be merged into one observation."
   ]
  },
  {
   "cell_type": "markdown",
   "metadata": {},
   "source": [
    "# Setup"
   ]
  },
  {
   "cell_type": "code",
   "execution_count": 96,
   "metadata": {},
   "outputs": [],
   "source": [
    "# Import Libraries\n",
    "%matplotlib inline\n",
    "import numpy as np\n",
    "import pandas as pd\n",
    "import matplotlib.pyplot as plt\n",
    "import seaborn as sns\n",
    "import patsy\n",
    "import statsmodels.api as stats\n",
    "\n",
    "# Configure libraries\n",
    "# The seaborn library makes plots look nicer\n",
    "sns.set(rc={'figure.figsize':(11,8)})\n",
    "sns.set_context('talk')\n",
    "sns.set_style(style='ticks')\n",
    "\n",
    "\n",
    "# Import Datasets\n",
    "yelp_df = pd.read_csv(\"https://raw.githubusercontent.com/AaronAOliver/Projects/master/Option2_Individual/yelp.csv\")\n",
    "inspection_df = pd.read_csv(\"https://raw.githubusercontent.com/AaronAOliver/Projects/master/Option2_Individual/inspections.csv\")\n",
    "\n",
    "# Prune columns for only features of importance\n",
    "yelp_df = yelp_df[['name', 'rating', 'review_count', 'address1', 'zip_code', 'price']]\n",
    "inspection_df = inspection_df[['date', 'name', 'address1', 'zip', 'score', 'facilitytype']]"
   ]
  },
  {
   "cell_type": "markdown",
   "metadata": {},
   "source": [
    "# Data Cleaning"
   ]
  },
  {
   "cell_type": "markdown",
   "metadata": {},
   "source": [
    "Before any cleaning, we will subset the inspections dataset to only consider businesses that are listed as restaurants."
   ]
  },
  {
   "cell_type": "code",
   "execution_count": 97,
   "metadata": {},
   "outputs": [],
   "source": [
    "inspection_df = inspection_df[inspection_df['facilitytype'] == \"Restaurant\"]\n",
    "inspection_df = inspection_df.drop(['facilitytype'], axis=1)"
   ]
  },
  {
   "cell_type": "markdown",
   "metadata": {},
   "source": [
    "Now will need to clean the values of each column individually. First, we take a look at the price values of the Yelp reviews:"
   ]
  },
  {
   "cell_type": "code",
   "execution_count": 98,
   "metadata": {},
   "outputs": [
    {
     "data": {
      "text/plain": [
       "array(['$$', '$', '$$$', nan, '$$$$', '19198407700', '18775769464',\n",
       "       '19194811105', '19196150592', '19192666118', '19108685071',\n",
       "       '19198469808', '19199869521', '19194660308', '19194660360',\n",
       "       '19198884887', '19194607025', '19194692122', '19194899364',\n",
       "       '19195827000', '19193870228', '19197843100', '19198217991',\n",
       "       '19106926261', '19198217400', '19198320501', '19196000870',\n",
       "       '19198824629', '19195214445', '19198484906', '19198500891',\n",
       "       '19194362246', '19197793900', '19197822594', '19198344000',\n",
       "       '19198213111', '19194250800', '19195526154', '19198473548'],\n",
       "      dtype=object)"
      ]
     },
     "execution_count": 98,
     "metadata": {},
     "output_type": "execute_result"
    }
   ],
   "source": [
    "yelp_df['price'].unique()"
   ]
  },
  {
   "cell_type": "markdown",
   "metadata": {},
   "source": [
    "It appears that telephone numbers have been incorrectly entered into the price column. We will have to parse this and remove any business that is not given a price value."
   ]
  },
  {
   "cell_type": "code",
   "execution_count": 99,
   "metadata": {},
   "outputs": [],
   "source": [
    "def standardize_prices(text):\n",
    "    #phone numbers and NAs\n",
    "    if isinstance(text, int):\n",
    "        return 0\n",
    "    \n",
    "    #valid prices\n",
    "    text = text.strip()\n",
    "    if text == \"$\":\n",
    "        return 1\n",
    "    elif text == \"$$\":\n",
    "        return 2\n",
    "    elif text == \"$$$\":\n",
    "        return 3\n",
    "    elif text == \"$$$$\":\n",
    "        return 4\n",
    "    \n",
    "    #invalid prices\n",
    "    else:\n",
    "        return 0\n",
    "    \n",
    "yelp_df[['price']] = yelp_df[['price']].fillna(value=0)\n",
    "yelp_df['price'] = yelp_df['price'].apply(standardize_prices) \n",
    "yelp_df = yelp_df[yelp_df['price'] > 0]"
   ]
  },
  {
   "cell_type": "markdown",
   "metadata": {},
   "source": [
    "Now we can see that we only have four types of price, represented numerically:"
   ]
  },
  {
   "cell_type": "code",
   "execution_count": 100,
   "metadata": {},
   "outputs": [
    {
     "data": {
      "text/plain": [
       "2    1416\n",
       "1    1326\n",
       "3     112\n",
       "4      20\n",
       "Name: price, dtype: int64"
      ]
     },
     "execution_count": 100,
     "metadata": {},
     "output_type": "execute_result"
    }
   ],
   "source": [
    "yelp_df['price'].value_counts()"
   ]
  },
  {
   "cell_type": "markdown",
   "metadata": {},
   "source": [
    "Next is to standardize the addresses between the two datasets. We will convert to lowercase and replace abbreviations with the full words."
   ]
  },
  {
   "cell_type": "code",
   "execution_count": 101,
   "metadata": {},
   "outputs": [],
   "source": [
    "def standardize_addresses(address):\n",
    "    if not isinstance(address, str):\n",
    "        address = str(address)\n",
    "    address = address.lower().strip() + \" \"\n",
    "    address = address.replace(\" dr \", \" drive \")\n",
    "    address = address.replace(\" rd \", \" road \")\n",
    "    address = address.replace(\" st \", \" street \")\n",
    "    address = address.replace(\" pkwy \", \" parkway \")\n",
    "    address = address.replace(\" hwy \", \" highway \")\n",
    "    address = address.replace(\" blvd \", \" boulevard \")\n",
    "    address = address.replace(\" blv \", \" boulevard \")\n",
    "    address = address.replace(\" ct \", \" court \")\n",
    "    address = address.replace(\" bldg \", \" building \")\n",
    "    address = address.replace(\" pl \", \" place \")\n",
    "    address = address.replace(\" ave \", \" avenue \")\n",
    "    address = address.replace(\" cir \", \" circle \")\n",
    "    address = address.replace(\" cntr \", \" center \")\n",
    "    address = address.replace(\" fwy \", \" freeway \")\n",
    "    address = address.replace(\" jct \", \" junction \")\n",
    "    address = address.replace(\" plz \", \" plaza \")\n",
    "    address = address.replace(\" rte \", \" route \")\n",
    "    address = address.replace(\" ln \", \" lane \")\n",
    "    address = address.replace(\" trl \", \" trail \")\n",
    "    \n",
    "    #fix double space entry error in some entries\n",
    "    address = address.replace(\"  \", \" \")\n",
    "    \n",
    "    return address.strip()\n",
    "    \n",
    "yelp_df['address1'] = yelp_df['address1'].apply(standardize_addresses)\n",
    "inspection_df['address1'] = inspection_df['address1'].apply(standardize_addresses)"
   ]
  },
  {
   "cell_type": "markdown",
   "metadata": {},
   "source": [
    "Now we look at zip codes:"
   ]
  },
  {
   "cell_type": "code",
   "execution_count": 102,
   "metadata": {},
   "outputs": [
    {
     "data": {
      "text/plain": [
       "array([27560, 27519, 27612, 27893, 27896, 28573, 27807, 27804, 27870,\n",
       "       28578, 27812, 27215, 27253, 27601, 27406, 27573, 27041, 27377,\n",
       "       27401, 27203, 27023, 27410, 27516, 27610, 27518, 27609, 27701,\n",
       "       27587, 27513, 27709, 27603, 27607, 27606, 27529, 28304, 28540,\n",
       "       28303, 28546, 28345, 27546, 27617, 27576, 27713, 27502, 27504,\n",
       "       27545, 27616, 27705, 27703, 27704, 27604, 27511, 32256, 27615,\n",
       "       27608, 27707, 27510, 27527, 27278, 27613, 28545, 27614, 27523,\n",
       "       27539, 27597, 27542, 27540, 27526, 27450, 27302, 27605, 27722,\n",
       "       27520, 27591, 27592, 27517, 27571, 27501, 28587, 27712, 27549,\n",
       "       27508, 27522, 27514, 27312, 27596, 27588, 27534, 27332, 27330,\n",
       "       27623, 27512, 27577, 22701, 27711, 27515])"
      ]
     },
     "execution_count": 102,
     "metadata": {},
     "output_type": "execute_result"
    }
   ],
   "source": [
    "yelp_df['zip_code'].unique()"
   ]
  },
  {
   "cell_type": "code",
   "execution_count": 103,
   "metadata": {},
   "outputs": [
    {
     "data": {
      "text/plain": [
       "array([27610, 27513, 27606, 27529, 27511, 27616, 27607, 27604, 27587,\n",
       "       27605, 27615, 27609, 27612, 27502, 27613, 27617, 27560, 27601,\n",
       "       27545, 27526, 27540, 27608, 27597, 27518, 27539, 27603, 27614,\n",
       "       27519, 27571, 27562, 27520, 27591, 27628, 27592, 27695, 27523,\n",
       "       27512, 27619, 27652, 27595, 27709, 27650, 27501, 27579, 28587])"
      ]
     },
     "execution_count": 103,
     "metadata": {},
     "output_type": "execute_result"
    }
   ],
   "source": [
    "inspection_df['zip'].unique()"
   ]
  },
  {
   "cell_type": "markdown",
   "metadata": {},
   "source": [
    "Both datasets use the standard 5 digit representation zip codes, so no further work needs to be done there. Next, we combine the street address and zip code into a single string so we can join the two datasets along this column."
   ]
  },
  {
   "cell_type": "code",
   "execution_count": 104,
   "metadata": {},
   "outputs": [],
   "source": [
    "yelp_df = yelp_df.dropna(subset=['address1', \"zip_code\"])\n",
    "yelp_df['full_address'] = yelp_df['address1'].map(str) + \", \" + yelp_df['zip_code'].map(str)\n",
    "\n",
    "inspection_df = inspection_df.dropna(subset=['address1', \"zip\"])\n",
    "inspection_df['full_address'] = inspection_df['address1'].map(str) + \", \" + inspection_df['zip'].map(str)"
   ]
  },
  {
   "cell_type": "markdown",
   "metadata": {},
   "source": [
    "Before merging, we need to select the most recent health inspection for each location. To do this, we will sort by earliest date and take the last instance of a business name as we traverse down the dataframe. As a test, we will check which health inspection we keep for the Panera Bread #1643."
   ]
  },
  {
   "cell_type": "code",
   "execution_count": 105,
   "metadata": {},
   "outputs": [
    {
     "data": {
      "text/html": [
       "<div>\n",
       "<style scoped>\n",
       "    .dataframe tbody tr th:only-of-type {\n",
       "        vertical-align: middle;\n",
       "    }\n",
       "\n",
       "    .dataframe tbody tr th {\n",
       "        vertical-align: top;\n",
       "    }\n",
       "\n",
       "    .dataframe thead th {\n",
       "        text-align: right;\n",
       "    }\n",
       "</style>\n",
       "<table border=\"1\" class=\"dataframe\">\n",
       "  <thead>\n",
       "    <tr style=\"text-align: right;\">\n",
       "      <th></th>\n",
       "      <th>date</th>\n",
       "      <th>name</th>\n",
       "      <th>address1</th>\n",
       "      <th>zip</th>\n",
       "      <th>score</th>\n",
       "      <th>full_address</th>\n",
       "    </tr>\n",
       "  </thead>\n",
       "  <tbody>\n",
       "    <tr>\n",
       "      <th>3</th>\n",
       "      <td>2012-09-21T00:00:00Z</td>\n",
       "      <td>Panera Bread #1643</td>\n",
       "      <td>1065 darrington drive</td>\n",
       "      <td>27513</td>\n",
       "      <td>99.0</td>\n",
       "      <td>1065 darrington drive, 27513</td>\n",
       "    </tr>\n",
       "    <tr>\n",
       "      <th>1732</th>\n",
       "      <td>2013-03-13T00:00:00Z</td>\n",
       "      <td>Panera Bread #1643</td>\n",
       "      <td>1065 darrington drive</td>\n",
       "      <td>27513</td>\n",
       "      <td>96.0</td>\n",
       "      <td>1065 darrington drive, 27513</td>\n",
       "    </tr>\n",
       "    <tr>\n",
       "      <th>5057</th>\n",
       "      <td>2014-01-15T00:00:00Z</td>\n",
       "      <td>Panera Bread #1643</td>\n",
       "      <td>1065 darrington drive</td>\n",
       "      <td>27513</td>\n",
       "      <td>97.5</td>\n",
       "      <td>1065 darrington drive, 27513</td>\n",
       "    </tr>\n",
       "    <tr>\n",
       "      <th>7141</th>\n",
       "      <td>2014-07-30T00:00:00Z</td>\n",
       "      <td>Panera Bread #1643</td>\n",
       "      <td>1065 darrington drive</td>\n",
       "      <td>27513</td>\n",
       "      <td>96.5</td>\n",
       "      <td>1065 darrington drive, 27513</td>\n",
       "    </tr>\n",
       "    <tr>\n",
       "      <th>10727</th>\n",
       "      <td>2015-05-01T00:00:00Z</td>\n",
       "      <td>Panera Bread #1643</td>\n",
       "      <td>1065 darrington drive</td>\n",
       "      <td>27513</td>\n",
       "      <td>95.5</td>\n",
       "      <td>1065 darrington drive, 27513</td>\n",
       "    </tr>\n",
       "    <tr>\n",
       "      <th>10728</th>\n",
       "      <td>2015-05-01T00:00:00Z</td>\n",
       "      <td>Panera Bread #1643</td>\n",
       "      <td>1065 darrington drive</td>\n",
       "      <td>27513</td>\n",
       "      <td>95.5</td>\n",
       "      <td>1065 darrington drive, 27513</td>\n",
       "    </tr>\n",
       "    <tr>\n",
       "      <th>14356</th>\n",
       "      <td>2016-01-19T00:00:00Z</td>\n",
       "      <td>Panera Bread #1643</td>\n",
       "      <td>1065 darrington drive</td>\n",
       "      <td>27513</td>\n",
       "      <td>95.5</td>\n",
       "      <td>1065 darrington drive, 27513</td>\n",
       "    </tr>\n",
       "    <tr>\n",
       "      <th>17271</th>\n",
       "      <td>2016-08-09T00:00:00Z</td>\n",
       "      <td>Panera Bread #1643</td>\n",
       "      <td>1065 darrington drive</td>\n",
       "      <td>27513</td>\n",
       "      <td>95.0</td>\n",
       "      <td>1065 darrington drive, 27513</td>\n",
       "    </tr>\n",
       "  </tbody>\n",
       "</table>\n",
       "</div>"
      ],
      "text/plain": [
       "                       date                name               address1    zip  \\\n",
       "3      2012-09-21T00:00:00Z  Panera Bread #1643  1065 darrington drive  27513   \n",
       "1732   2013-03-13T00:00:00Z  Panera Bread #1643  1065 darrington drive  27513   \n",
       "5057   2014-01-15T00:00:00Z  Panera Bread #1643  1065 darrington drive  27513   \n",
       "7141   2014-07-30T00:00:00Z  Panera Bread #1643  1065 darrington drive  27513   \n",
       "10727  2015-05-01T00:00:00Z  Panera Bread #1643  1065 darrington drive  27513   \n",
       "10728  2015-05-01T00:00:00Z  Panera Bread #1643  1065 darrington drive  27513   \n",
       "14356  2016-01-19T00:00:00Z  Panera Bread #1643  1065 darrington drive  27513   \n",
       "17271  2016-08-09T00:00:00Z  Panera Bread #1643  1065 darrington drive  27513   \n",
       "\n",
       "       score                  full_address  \n",
       "3       99.0  1065 darrington drive, 27513  \n",
       "1732    96.0  1065 darrington drive, 27513  \n",
       "5057    97.5  1065 darrington drive, 27513  \n",
       "7141    96.5  1065 darrington drive, 27513  \n",
       "10727   95.5  1065 darrington drive, 27513  \n",
       "10728   95.5  1065 darrington drive, 27513  \n",
       "14356   95.5  1065 darrington drive, 27513  \n",
       "17271   95.0  1065 darrington drive, 27513  "
      ]
     },
     "execution_count": 105,
     "metadata": {},
     "output_type": "execute_result"
    }
   ],
   "source": [
    "inspection_df[inspection_df['name'] == \"Panera Bread #1643\"]"
   ]
  },
  {
   "cell_type": "markdown",
   "metadata": {},
   "source": [
    "The latest Panera Bread #1643 inspection occurs on 2016-08-09."
   ]
  },
  {
   "cell_type": "code",
   "execution_count": 106,
   "metadata": {},
   "outputs": [
    {
     "data": {
      "text/html": [
       "<div>\n",
       "<style scoped>\n",
       "    .dataframe tbody tr th:only-of-type {\n",
       "        vertical-align: middle;\n",
       "    }\n",
       "\n",
       "    .dataframe tbody tr th {\n",
       "        vertical-align: top;\n",
       "    }\n",
       "\n",
       "    .dataframe thead th {\n",
       "        text-align: right;\n",
       "    }\n",
       "</style>\n",
       "<table border=\"1\" class=\"dataframe\">\n",
       "  <thead>\n",
       "    <tr style=\"text-align: right;\">\n",
       "      <th></th>\n",
       "      <th>date</th>\n",
       "      <th>name</th>\n",
       "      <th>address1</th>\n",
       "      <th>zip</th>\n",
       "      <th>score</th>\n",
       "      <th>full_address</th>\n",
       "    </tr>\n",
       "  </thead>\n",
       "  <tbody>\n",
       "    <tr>\n",
       "      <th>17271</th>\n",
       "      <td>2016-08-09T00:00:00Z</td>\n",
       "      <td>Panera Bread #1643</td>\n",
       "      <td>1065 darrington drive</td>\n",
       "      <td>27513</td>\n",
       "      <td>95.0</td>\n",
       "      <td>1065 darrington drive, 27513</td>\n",
       "    </tr>\n",
       "  </tbody>\n",
       "</table>\n",
       "</div>"
      ],
      "text/plain": [
       "                       date                name               address1    zip  \\\n",
       "17271  2016-08-09T00:00:00Z  Panera Bread #1643  1065 darrington drive  27513   \n",
       "\n",
       "       score                  full_address  \n",
       "17271   95.0  1065 darrington drive, 27513  "
      ]
     },
     "execution_count": 106,
     "metadata": {},
     "output_type": "execute_result"
    }
   ],
   "source": [
    "inspection_df = inspection_df.sort_values([\"date\"]).drop_duplicates(subset=['name'], keep='last')\n",
    "inspection_df[inspection_df['name'] == \"Panera Bread #1643\"]"
   ]
  },
  {
   "cell_type": "markdown",
   "metadata": {},
   "source": [
    "And this is the inspection that we keep! So we have successfully maintained only the most recent inspection for each establishment. Finally, we join together the two datasets based on address. A quick scan of the business names from yelp and the health inspection show mostly matches between the names, although some differences can arise from business closures, multiple businesses with the same address, and company rebranding. This is one limitation of our analysis and our dataset, which I will discuss further in later sections."
   ]
  },
  {
   "cell_type": "code",
   "execution_count": 107,
   "metadata": {},
   "outputs": [
    {
     "data": {
      "text/html": [
       "<div>\n",
       "<style scoped>\n",
       "    .dataframe tbody tr th:only-of-type {\n",
       "        vertical-align: middle;\n",
       "    }\n",
       "\n",
       "    .dataframe tbody tr th {\n",
       "        vertical-align: top;\n",
       "    }\n",
       "\n",
       "    .dataframe thead th {\n",
       "        text-align: right;\n",
       "    }\n",
       "</style>\n",
       "<table border=\"1\" class=\"dataframe\">\n",
       "  <thead>\n",
       "    <tr style=\"text-align: right;\">\n",
       "      <th></th>\n",
       "      <th>name_x</th>\n",
       "      <th>rating</th>\n",
       "      <th>review_count</th>\n",
       "      <th>address1_x</th>\n",
       "      <th>zip_code</th>\n",
       "      <th>price</th>\n",
       "      <th>full_address</th>\n",
       "      <th>date</th>\n",
       "      <th>name_y</th>\n",
       "      <th>address1_y</th>\n",
       "      <th>zip</th>\n",
       "      <th>score</th>\n",
       "    </tr>\n",
       "  </thead>\n",
       "  <tbody>\n",
       "    <tr>\n",
       "      <th>0</th>\n",
       "      <td>holiday inn express &amp; suites raleigh ne - medi...</td>\n",
       "      <td>3.0</td>\n",
       "      <td>7</td>\n",
       "      <td>3618 new bern avenue</td>\n",
       "      <td>27610</td>\n",
       "      <td>2</td>\n",
       "      <td>3618 new bern avenue, 27610</td>\n",
       "      <td>2016-08-05T00:00:00Z</td>\n",
       "      <td>HOLIDAY INN EXPRESS BREAKFAST</td>\n",
       "      <td>3618 new bern avenue</td>\n",
       "      <td>27610</td>\n",
       "      <td>95.0</td>\n",
       "    </tr>\n",
       "    <tr>\n",
       "      <th>1</th>\n",
       "      <td>desi mazaa</td>\n",
       "      <td>4.0</td>\n",
       "      <td>4</td>\n",
       "      <td>212 grande heights drive</td>\n",
       "      <td>27513</td>\n",
       "      <td>2</td>\n",
       "      <td>212 grande heights drive, 27513</td>\n",
       "      <td>2016-06-24T00:00:00Z</td>\n",
       "      <td>DESI MAZAA</td>\n",
       "      <td>212 grande heights drive</td>\n",
       "      <td>27513</td>\n",
       "      <td>90.0</td>\n",
       "    </tr>\n",
       "    <tr>\n",
       "      <th>2</th>\n",
       "      <td>insomnia cookies</td>\n",
       "      <td>3.5</td>\n",
       "      <td>43</td>\n",
       "      <td>2302 hillsborough street</td>\n",
       "      <td>27607</td>\n",
       "      <td>1</td>\n",
       "      <td>2302 hillsborough street, 27607</td>\n",
       "      <td>2016-03-10T00:00:00Z</td>\n",
       "      <td>BRUEGGERS BAGELS #18</td>\n",
       "      <td>2302 hillsborough street</td>\n",
       "      <td>27607</td>\n",
       "      <td>97.0</td>\n",
       "    </tr>\n",
       "    <tr>\n",
       "      <th>3</th>\n",
       "      <td>bruegger's bagels</td>\n",
       "      <td>3.0</td>\n",
       "      <td>16</td>\n",
       "      <td>2302 hillsborough street</td>\n",
       "      <td>27607</td>\n",
       "      <td>1</td>\n",
       "      <td>2302 hillsborough street, 27607</td>\n",
       "      <td>2016-03-10T00:00:00Z</td>\n",
       "      <td>BRUEGGERS BAGELS #18</td>\n",
       "      <td>2302 hillsborough street</td>\n",
       "      <td>27607</td>\n",
       "      <td>97.0</td>\n",
       "    </tr>\n",
       "    <tr>\n",
       "      <th>4</th>\n",
       "      <td>hawthorn suites by wyndham raleigh</td>\n",
       "      <td>3.5</td>\n",
       "      <td>11</td>\n",
       "      <td>1020 buck jones road</td>\n",
       "      <td>27606</td>\n",
       "      <td>2</td>\n",
       "      <td>1020 buck jones road, 27606</td>\n",
       "      <td>2016-06-10T00:00:00Z</td>\n",
       "      <td>HAWTHORN SUITES BREAKFAST</td>\n",
       "      <td>1020 buck jones road</td>\n",
       "      <td>27606</td>\n",
       "      <td>96.0</td>\n",
       "    </tr>\n",
       "  </tbody>\n",
       "</table>\n",
       "</div>"
      ],
      "text/plain": [
       "                                              name_x  rating  review_count  \\\n",
       "0  holiday inn express & suites raleigh ne - medi...     3.0             7   \n",
       "1                                         desi mazaa     4.0             4   \n",
       "2                                   insomnia cookies     3.5            43   \n",
       "3                                  bruegger's bagels     3.0            16   \n",
       "4                 hawthorn suites by wyndham raleigh     3.5            11   \n",
       "\n",
       "                 address1_x  zip_code  price                     full_address  \\\n",
       "0      3618 new bern avenue     27610      2      3618 new bern avenue, 27610   \n",
       "1  212 grande heights drive     27513      2  212 grande heights drive, 27513   \n",
       "2  2302 hillsborough street     27607      1  2302 hillsborough street, 27607   \n",
       "3  2302 hillsborough street     27607      1  2302 hillsborough street, 27607   \n",
       "4      1020 buck jones road     27606      2      1020 buck jones road, 27606   \n",
       "\n",
       "                   date                         name_y  \\\n",
       "0  2016-08-05T00:00:00Z  HOLIDAY INN EXPRESS BREAKFAST   \n",
       "1  2016-06-24T00:00:00Z                     DESI MAZAA   \n",
       "2  2016-03-10T00:00:00Z           BRUEGGERS BAGELS #18   \n",
       "3  2016-03-10T00:00:00Z           BRUEGGERS BAGELS #18   \n",
       "4  2016-06-10T00:00:00Z      HAWTHORN SUITES BREAKFAST   \n",
       "\n",
       "                 address1_y    zip  score  \n",
       "0      3618 new bern avenue  27610   95.0  \n",
       "1  212 grande heights drive  27513   90.0  \n",
       "2  2302 hillsborough street  27607   97.0  \n",
       "3  2302 hillsborough street  27607   97.0  \n",
       "4      1020 buck jones road  27606   96.0  "
      ]
     },
     "execution_count": 107,
     "metadata": {},
     "output_type": "execute_result"
    }
   ],
   "source": [
    "combined_df = pd.merge(yelp_df, inspection_df, how='inner', on='full_address')\n",
    "combined_df.head()"
   ]
  },
  {
   "cell_type": "markdown",
   "metadata": {},
   "source": [
    "Since health inspections can take place in multiple areas within one business, we will only take a unique instance of each yelp review. Then, we prune the columns to remove repetitive data. Now we have generated a dataset that we can perform exploratory data analysis on."
   ]
  },
  {
   "cell_type": "code",
   "execution_count": 108,
   "metadata": {},
   "outputs": [
    {
     "data": {
      "text/html": [
       "<div>\n",
       "<style scoped>\n",
       "    .dataframe tbody tr th:only-of-type {\n",
       "        vertical-align: middle;\n",
       "    }\n",
       "\n",
       "    .dataframe tbody tr th {\n",
       "        vertical-align: top;\n",
       "    }\n",
       "\n",
       "    .dataframe thead th {\n",
       "        text-align: right;\n",
       "    }\n",
       "</style>\n",
       "<table border=\"1\" class=\"dataframe\">\n",
       "  <thead>\n",
       "    <tr style=\"text-align: right;\">\n",
       "      <th></th>\n",
       "      <th>restaurant</th>\n",
       "      <th>address</th>\n",
       "      <th>yelp_rating</th>\n",
       "      <th>yelp_reviews</th>\n",
       "      <th>yelp_price</th>\n",
       "      <th>health_score</th>\n",
       "    </tr>\n",
       "  </thead>\n",
       "  <tbody>\n",
       "    <tr>\n",
       "      <th>0</th>\n",
       "      <td>east village bar &amp; grill</td>\n",
       "      <td>1 dixie trail, 27607</td>\n",
       "      <td>3.0</td>\n",
       "      <td>42</td>\n",
       "      <td>2</td>\n",
       "      <td>93.0</td>\n",
       "    </tr>\n",
       "    <tr>\n",
       "      <th>1</th>\n",
       "      <td>groucho's deli</td>\n",
       "      <td>10 horne street, 27607</td>\n",
       "      <td>4.0</td>\n",
       "      <td>25</td>\n",
       "      <td>1</td>\n",
       "      <td>98.0</td>\n",
       "    </tr>\n",
       "    <tr>\n",
       "      <th>2</th>\n",
       "      <td>j. betski`s</td>\n",
       "      <td>10 w franklin street, 27604</td>\n",
       "      <td>4.5</td>\n",
       "      <td>247</td>\n",
       "      <td>2</td>\n",
       "      <td>96.5</td>\n",
       "    </tr>\n",
       "    <tr>\n",
       "      <th>3</th>\n",
       "      <td>dim sum house</td>\n",
       "      <td>100 jerusalem drive, 27560</td>\n",
       "      <td>3.0</td>\n",
       "      <td>228</td>\n",
       "      <td>2</td>\n",
       "      <td>94.0</td>\n",
       "    </tr>\n",
       "    <tr>\n",
       "      <th>4</th>\n",
       "      <td>goji bistro</td>\n",
       "      <td>100 maynard crossing court, 27513</td>\n",
       "      <td>4.5</td>\n",
       "      <td>81</td>\n",
       "      <td>2</td>\n",
       "      <td>93.0</td>\n",
       "    </tr>\n",
       "    <tr>\n",
       "      <th>...</th>\n",
       "      <td>...</td>\n",
       "      <td>...</td>\n",
       "      <td>...</td>\n",
       "      <td>...</td>\n",
       "      <td>...</td>\n",
       "      <td>...</td>\n",
       "    </tr>\n",
       "    <tr>\n",
       "      <th>983</th>\n",
       "      <td>la taqueria</td>\n",
       "      <td>973 e broad street, 27526</td>\n",
       "      <td>4.0</td>\n",
       "      <td>14</td>\n",
       "      <td>1</td>\n",
       "      <td>95.5</td>\n",
       "    </tr>\n",
       "    <tr>\n",
       "      <th>984</th>\n",
       "      <td>ledo pizza</td>\n",
       "      <td>982 high house road, 27513</td>\n",
       "      <td>4.0</td>\n",
       "      <td>35</td>\n",
       "      <td>2</td>\n",
       "      <td>91.5</td>\n",
       "    </tr>\n",
       "    <tr>\n",
       "      <th>985</th>\n",
       "      <td>fiesta mexicana</td>\n",
       "      <td>990 high house road, 27513</td>\n",
       "      <td>4.0</td>\n",
       "      <td>25</td>\n",
       "      <td>1</td>\n",
       "      <td>92.5</td>\n",
       "    </tr>\n",
       "    <tr>\n",
       "      <th>986</th>\n",
       "      <td>zaxby's #46101</td>\n",
       "      <td>995 durham road, 27587</td>\n",
       "      <td>3.5</td>\n",
       "      <td>4</td>\n",
       "      <td>1</td>\n",
       "      <td>97.0</td>\n",
       "    </tr>\n",
       "    <tr>\n",
       "      <th>987</th>\n",
       "      <td>main street grille pizzeria &amp;amp; restaurant</td>\n",
       "      <td>999 durham road, 27587</td>\n",
       "      <td>4.0</td>\n",
       "      <td>21</td>\n",
       "      <td>2</td>\n",
       "      <td>96.0</td>\n",
       "    </tr>\n",
       "  </tbody>\n",
       "</table>\n",
       "<p>988 rows × 6 columns</p>\n",
       "</div>"
      ],
      "text/plain": [
       "                                       restaurant  \\\n",
       "0                        east village bar & grill   \n",
       "1                                  groucho's deli   \n",
       "2                                     j. betski`s   \n",
       "3                                   dim sum house   \n",
       "4                                     goji bistro   \n",
       "..                                            ...   \n",
       "983                                   la taqueria   \n",
       "984                                    ledo pizza   \n",
       "985                               fiesta mexicana   \n",
       "986                                zaxby's #46101   \n",
       "987  main street grille pizzeria &amp; restaurant   \n",
       "\n",
       "                               address  yelp_rating  yelp_reviews  yelp_price  \\\n",
       "0                 1 dixie trail, 27607          3.0            42           2   \n",
       "1               10 horne street, 27607          4.0            25           1   \n",
       "2          10 w franklin street, 27604          4.5           247           2   \n",
       "3           100 jerusalem drive, 27560          3.0           228           2   \n",
       "4    100 maynard crossing court, 27513          4.5            81           2   \n",
       "..                                 ...          ...           ...         ...   \n",
       "983          973 e broad street, 27526          4.0            14           1   \n",
       "984         982 high house road, 27513          4.0            35           2   \n",
       "985         990 high house road, 27513          4.0            25           1   \n",
       "986             995 durham road, 27587          3.5             4           1   \n",
       "987             999 durham road, 27587          4.0            21           2   \n",
       "\n",
       "     health_score  \n",
       "0            93.0  \n",
       "1            98.0  \n",
       "2            96.5  \n",
       "3            94.0  \n",
       "4            93.0  \n",
       "..            ...  \n",
       "983          95.5  \n",
       "984          91.5  \n",
       "985          92.5  \n",
       "986          97.0  \n",
       "987          96.0  \n",
       "\n",
       "[988 rows x 6 columns]"
      ]
     },
     "execution_count": 108,
     "metadata": {},
     "output_type": "execute_result"
    }
   ],
   "source": [
    "# Our final dataset\n",
    "combined_df = combined_df.sort_values([\"address1_x\"]).drop_duplicates(subset=[\"address1_x\"], keep='first')\n",
    "combined_df = combined_df[['name_y', 'full_address', 'rating', 'review_count', 'price', 'score']]\n",
    "renames = {'price':'yelp_price','name_y': 'restaurant', 'full_address': 'address', 'score': 'health_score', 'rating':'yelp_rating', 'review_count':'yelp_reviews'}\n",
    "df = combined_df.rename(columns=renames).reset_index(drop=True)\n",
    "df['restaurant'] = df['restaurant'].str.lower()\n",
    "df"
   ]
  },
  {
   "cell_type": "markdown",
   "metadata": {},
   "source": [
    "# Data Analysis & Results"
   ]
  },
  {
   "cell_type": "markdown",
   "metadata": {},
   "source": [
    "Our first step will be to look at the descriptive statistics for our variables. Note that the Yelp price and health inspection score variables are not continuous numeric variables, but ordinal variables. The possible values for the Yelp prices are 1, 2, 3, or 4, corresponding to the \\\\$, \\\\$\\\\$, \\\\$\\\\$\\\\$, and \\\\$\\\\$\\\\$\\\\$ categories of overall menu price as determined by Yelp. Health inspection scores scores can take on values in range between 0 and 100 in 0.5 increments, although the minimum health score in our dataset is above 70. The possible values for individual Yelp ratings are 1, 1.5, 2, ..., 4.5, or 5 stars, and the aggregate rating for a restaurant is rounded to the closest of these intervals. \n",
    "\n",
    "The mean overall rating for a restaurant in our dataset on Yelp is almost exactly 3.5, consistent with what we could expect using background familiarity with other online rating systems. Most restaurants in our dataset have cheap prices, with an average price rating of 1.58, which is in between a \\\\$ and a \\\\$\\\\$ classification."
   ]
  },
  {
   "cell_type": "code",
   "execution_count": 109,
   "metadata": {},
   "outputs": [
    {
     "data": {
      "text/html": [
       "<div>\n",
       "<style scoped>\n",
       "    .dataframe tbody tr th:only-of-type {\n",
       "        vertical-align: middle;\n",
       "    }\n",
       "\n",
       "    .dataframe tbody tr th {\n",
       "        vertical-align: top;\n",
       "    }\n",
       "\n",
       "    .dataframe thead th {\n",
       "        text-align: right;\n",
       "    }\n",
       "</style>\n",
       "<table border=\"1\" class=\"dataframe\">\n",
       "  <thead>\n",
       "    <tr style=\"text-align: right;\">\n",
       "      <th></th>\n",
       "      <th>yelp_rating</th>\n",
       "      <th>yelp_reviews</th>\n",
       "      <th>yelp_price</th>\n",
       "      <th>health_score</th>\n",
       "    </tr>\n",
       "  </thead>\n",
       "  <tbody>\n",
       "    <tr>\n",
       "      <th>count</th>\n",
       "      <td>988.000000</td>\n",
       "      <td>988.000000</td>\n",
       "      <td>988.000000</td>\n",
       "      <td>988.000000</td>\n",
       "    </tr>\n",
       "    <tr>\n",
       "      <th>mean</th>\n",
       "      <td>3.492915</td>\n",
       "      <td>60.616397</td>\n",
       "      <td>1.588057</td>\n",
       "      <td>95.380567</td>\n",
       "    </tr>\n",
       "    <tr>\n",
       "      <th>std</th>\n",
       "      <td>0.735171</td>\n",
       "      <td>101.044703</td>\n",
       "      <td>0.572362</td>\n",
       "      <td>2.963114</td>\n",
       "    </tr>\n",
       "    <tr>\n",
       "      <th>min</th>\n",
       "      <td>1.000000</td>\n",
       "      <td>1.000000</td>\n",
       "      <td>1.000000</td>\n",
       "      <td>72.500000</td>\n",
       "    </tr>\n",
       "    <tr>\n",
       "      <th>25%</th>\n",
       "      <td>3.000000</td>\n",
       "      <td>12.000000</td>\n",
       "      <td>1.000000</td>\n",
       "      <td>94.000000</td>\n",
       "    </tr>\n",
       "    <tr>\n",
       "      <th>50%</th>\n",
       "      <td>3.500000</td>\n",
       "      <td>29.000000</td>\n",
       "      <td>2.000000</td>\n",
       "      <td>96.000000</td>\n",
       "    </tr>\n",
       "    <tr>\n",
       "      <th>75%</th>\n",
       "      <td>4.000000</td>\n",
       "      <td>72.000000</td>\n",
       "      <td>2.000000</td>\n",
       "      <td>97.500000</td>\n",
       "    </tr>\n",
       "    <tr>\n",
       "      <th>max</th>\n",
       "      <td>5.000000</td>\n",
       "      <td>1799.000000</td>\n",
       "      <td>4.000000</td>\n",
       "      <td>100.000000</td>\n",
       "    </tr>\n",
       "  </tbody>\n",
       "</table>\n",
       "</div>"
      ],
      "text/plain": [
       "       yelp_rating  yelp_reviews  yelp_price  health_score\n",
       "count   988.000000    988.000000  988.000000    988.000000\n",
       "mean      3.492915     60.616397    1.588057     95.380567\n",
       "std       0.735171    101.044703    0.572362      2.963114\n",
       "min       1.000000      1.000000    1.000000     72.500000\n",
       "25%       3.000000     12.000000    1.000000     94.000000\n",
       "50%       3.500000     29.000000    2.000000     96.000000\n",
       "75%       4.000000     72.000000    2.000000     97.500000\n",
       "max       5.000000   1799.000000    4.000000    100.000000"
      ]
     },
     "execution_count": 109,
     "metadata": {},
     "output_type": "execute_result"
    }
   ],
   "source": [
    "df.describe()"
   ]
  },
  {
   "cell_type": "markdown",
   "metadata": {},
   "source": [
    "For our first visualization, we examine the distribution of health inspection scores for the restaurants in our dataset. "
   ]
  },
  {
   "cell_type": "code",
   "execution_count": 110,
   "metadata": {},
   "outputs": [
    {
     "data": {
      "image/png": "[encoded data removed]",
      "text/plain": [
       "<Figure size 792x576 with 1 Axes>"
      ]
     },
     "metadata": {},
     "output_type": "display_data"
    }
   ],
   "source": [
    "ax = sns.histplot(data = df['health_score'], binwidth = 0.5, color = 'black')\n",
    "sns.despine()\n",
    "ax.set(xlabel='Latest Health Inspection Score', ylabel='Number of Restaurants')\n",
    "plt.title(\"Most restauarants earned an \\\"A\\\" grade on their latest inspection\", x = 0.45, y = 1.05, fontsize = 20, fontname='serif')\n",
    "plt.ylim(0, None)\n",
    "plt.xlim(70, 100)\n",
    "plt.plot([90, 90], [0, 100], 'g--', linewidth=4)\n",
    "plt.show()"
   ]
  },
  {
   "cell_type": "markdown",
   "metadata": {},
   "source": [
    "#### Figure 1. The histogram illustrates that the vast majority of the restauarants earned a score above 90, shown as a vertical green line, which is the treshold for an \"A\" grade. Note the relatively high amount of restaurants recieving a grade of exactly 90, possibly demonstrating an unwillingness of inspectors to give out less than the highest grade. The distribution is strongly right skewed near the maximum health inspection score of 100, with some low outliers in the mid 70s."
   ]
  },
  {
   "cell_type": "markdown",
   "metadata": {},
   "source": [
    "Next, we want to see if there is a relationship between the number of Yelp reviews and the average Yelp review score for a restaurant. We will visualize this with a scatterplot plotting these two variables."
   ]
  },
  {
   "cell_type": "code",
   "execution_count": 111,
   "metadata": {},
   "outputs": [
    {
     "data": {
      "image/png": "[encoded data removed]",
      "text/plain": [
       "<Figure size 792x576 with 1 Axes>"
      ]
     },
     "metadata": {},
     "output_type": "display_data"
    }
   ],
   "source": [
    "ax = sns.scatterplot(data = df, x = \"yelp_rating\", y = \"yelp_reviews\", color = 'black')\n",
    "sns.despine()\n",
    "ax.set(xlabel='Aggregate Yelp Rating', ylabel='Number of Yelp Reviews')\n",
    "plt.title(\"Poor and perfect Yelp ratings rare, popular restauarants earn better reviews\", x = 0.4, y = 1.02, fontsize = 20, fontname='serif')\n",
    "plt.show()"
   ]
  },
  {
   "cell_type": "markdown",
   "metadata": {},
   "source": [
    "#### Figure 2.  A scatterplot of the relationship between aggregate yelp rating and the number of reviews. We can see that the reviews are slightly right skewed, with the distribution centering around 4.0 (which prior research in our background section described as an \"average\" rating), and a gentle slope to the left towards restauarants with poor reviews. There are a few outliers with 4.0 and 4.5 aggregate ratings that have far more reviews than the other restaurants."
   ]
  },
  {
   "cell_type": "markdown",
   "metadata": {},
   "source": [
    "We can examine the outliers in this graph to try to determine why these restaurants have so many more ratings than the others. A brief look at the zipcodes in the addresses, 27601 and 27609, both correspond to parts of Raleigh, the largest city and capital of North Carolina. This high population in the surrounding area explains, in part, why these restaurants have so many reviews. The medium price of each of these restauarants, likely meaning more accessibility, could also help explain why there are so many reviews for these establishments."
   ]
  },
  {
   "cell_type": "code",
   "execution_count": 112,
   "metadata": {},
   "outputs": [
    {
     "data": {
      "text/html": [
       "<div>\n",
       "<style scoped>\n",
       "    .dataframe tbody tr th:only-of-type {\n",
       "        vertical-align: middle;\n",
       "    }\n",
       "\n",
       "    .dataframe tbody tr th {\n",
       "        vertical-align: top;\n",
       "    }\n",
       "\n",
       "    .dataframe thead th {\n",
       "        text-align: right;\n",
       "    }\n",
       "</style>\n",
       "<table border=\"1\" class=\"dataframe\">\n",
       "  <thead>\n",
       "    <tr style=\"text-align: right;\">\n",
       "      <th></th>\n",
       "      <th>restaurant</th>\n",
       "      <th>address</th>\n",
       "      <th>yelp_rating</th>\n",
       "      <th>yelp_reviews</th>\n",
       "      <th>yelp_price</th>\n",
       "      <th>health_score</th>\n",
       "    </tr>\n",
       "  </thead>\n",
       "  <tbody>\n",
       "    <tr>\n",
       "      <th>388</th>\n",
       "      <td>bida manda</td>\n",
       "      <td>222 s blount street, 27601</td>\n",
       "      <td>4.5</td>\n",
       "      <td>788</td>\n",
       "      <td>2</td>\n",
       "      <td>97.0</td>\n",
       "    </tr>\n",
       "    <tr>\n",
       "      <th>408</th>\n",
       "      <td>beasley's/chuck's/fox</td>\n",
       "      <td>237 s wilmington street, 27601</td>\n",
       "      <td>4.0</td>\n",
       "      <td>938</td>\n",
       "      <td>2</td>\n",
       "      <td>95.0</td>\n",
       "    </tr>\n",
       "    <tr>\n",
       "      <th>531</th>\n",
       "      <td>the pit</td>\n",
       "      <td>328 w davie street, 27601</td>\n",
       "      <td>4.0</td>\n",
       "      <td>1799</td>\n",
       "      <td>2</td>\n",
       "      <td>95.5</td>\n",
       "    </tr>\n",
       "    <tr>\n",
       "      <th>667</th>\n",
       "      <td>the yard house #41</td>\n",
       "      <td>4208 six forks road, 27609</td>\n",
       "      <td>4.5</td>\n",
       "      <td>776</td>\n",
       "      <td>2</td>\n",
       "      <td>95.5</td>\n",
       "    </tr>\n",
       "  </tbody>\n",
       "</table>\n",
       "</div>"
      ],
      "text/plain": [
       "                restaurant                         address  yelp_rating  \\\n",
       "388             bida manda      222 s blount street, 27601          4.5   \n",
       "408  beasley's/chuck's/fox  237 s wilmington street, 27601          4.0   \n",
       "531                the pit       328 w davie street, 27601          4.0   \n",
       "667     the yard house #41      4208 six forks road, 27609          4.5   \n",
       "\n",
       "     yelp_reviews  yelp_price  health_score  \n",
       "388           788           2          97.0  \n",
       "408           938           2          95.0  \n",
       "531          1799           2          95.5  \n",
       "667           776           2          95.5  "
      ]
     },
     "execution_count": 112,
     "metadata": {},
     "output_type": "execute_result"
    }
   ],
   "source": [
    "df[df['yelp_reviews'] > 750]"
   ]
  },
  {
   "cell_type": "markdown",
   "metadata": {},
   "source": [
    "Before performing a regression, we should further explore this pricing effect to see if restaurants with different pricing categories have different distributions of aggregate ratings. Once plotting issue is that all three of the restauarants with a \\\\$\\\\$\\\\$\\\\$ rating all have 3.5 stars, and so these restuarants cannot be ploted using a kernel density plot. So, we will filter those restaurants out for this next visualization."
   ]
  },
  {
   "cell_type": "code",
   "execution_count": 113,
   "metadata": {},
   "outputs": [
    {
     "data": {
      "text/html": [
       "<div>\n",
       "<style scoped>\n",
       "    .dataframe tbody tr th:only-of-type {\n",
       "        vertical-align: middle;\n",
       "    }\n",
       "\n",
       "    .dataframe tbody tr th {\n",
       "        vertical-align: top;\n",
       "    }\n",
       "\n",
       "    .dataframe thead th {\n",
       "        text-align: right;\n",
       "    }\n",
       "</style>\n",
       "<table border=\"1\" class=\"dataframe\">\n",
       "  <thead>\n",
       "    <tr style=\"text-align: right;\">\n",
       "      <th></th>\n",
       "      <th>restaurant</th>\n",
       "      <th>address</th>\n",
       "      <th>yelp_rating</th>\n",
       "      <th>yelp_reviews</th>\n",
       "      <th>yelp_price</th>\n",
       "      <th>health_score</th>\n",
       "    </tr>\n",
       "  </thead>\n",
       "  <tbody>\n",
       "    <tr>\n",
       "      <th>57</th>\n",
       "      <td>death and taxes</td>\n",
       "      <td>105 w hargett street, 27601</td>\n",
       "      <td>3.5</td>\n",
       "      <td>115</td>\n",
       "      <td>4</td>\n",
       "      <td>96.5</td>\n",
       "    </tr>\n",
       "    <tr>\n",
       "      <th>617</th>\n",
       "      <td>chick-fil-a #00585</td>\n",
       "      <td>400 fayetteville street, 27601</td>\n",
       "      <td>3.5</td>\n",
       "      <td>2</td>\n",
       "      <td>4</td>\n",
       "      <td>96.5</td>\n",
       "    </tr>\n",
       "    <tr>\n",
       "      <th>682</th>\n",
       "      <td>ruth`s chris</td>\n",
       "      <td>4381 lassiter at north hills avenue, 27609</td>\n",
       "      <td>3.5</td>\n",
       "      <td>81</td>\n",
       "      <td>4</td>\n",
       "      <td>97.5</td>\n",
       "    </tr>\n",
       "  </tbody>\n",
       "</table>\n",
       "</div>"
      ],
      "text/plain": [
       "             restaurant                                     address  \\\n",
       "57      death and taxes                 105 w hargett street, 27601   \n",
       "617  chick-fil-a #00585              400 fayetteville street, 27601   \n",
       "682        ruth`s chris  4381 lassiter at north hills avenue, 27609   \n",
       "\n",
       "     yelp_rating  yelp_reviews  yelp_price  health_score  \n",
       "57           3.5           115           4          96.5  \n",
       "617          3.5             2           4          96.5  \n",
       "682          3.5            81           4          97.5  "
      ]
     },
     "execution_count": 113,
     "metadata": {},
     "output_type": "execute_result"
    }
   ],
   "source": [
    "df[df['yelp_price'] == 4]"
   ]
  },
  {
   "cell_type": "code",
   "execution_count": 120,
   "metadata": {},
   "outputs": [
    {
     "data": {
      "image/png": "[encoded data removed]",
      "text/plain": [
       "<Figure size 792x576 with 1 Axes>"
      ]
     },
     "metadata": {},
     "output_type": "display_data"
    }
   ],
   "source": [
    "def price_to_dollars(price):\n",
    "    if price == 1:\n",
    "        return \"$\"\n",
    "    elif price == 2:\n",
    "        return '$$'\n",
    "    elif price == 3:\n",
    "        return '$$$'\n",
    "    else:\n",
    "        return '$$$$'\n",
    "    \n",
    "df['yelp_price_str'] = df['yelp_price'].apply(price_to_dollars)\n",
    "\n",
    "df_plot = df.groupby(['yelp_price_str', 'yelp_rating']).size().reset_index().pivot(columns='yelp_price_str', index='yelp_rating', values=0)\n",
    "ax = df_plot.plot(kind='bar', stacked=True, legend = False, color=(\"#F4F269\", \"#CEE26B\", \"#82C26E\", \"#5CB270\"), rot = 0)\n",
    "ax.legend(['\\$', '\\$\\$', '\\$\\$\\$', '\\$\\$\\$\\$'], title = \"Yelp Price Category\")\n",
    "ax.set(xlabel = 'Aggregate Yelp Tier', ylabel = 'Number of Restauarants')\n",
    "sns.despine()\n",
    "plt.title(\"Affordable or extravagant, meal price not a strong predictor of a restaurant's rating\", x = 0.45, y = 1.02, fontsize = 20, fontname='serif')\n",
    "plt.show()"
   ]
  },
  {
   "cell_type": "markdown",
   "metadata": {},
   "source": [
    "#### Figure 3. A stacked bar plot showing the number of inexpensive (\\\\$), moderately priced (\\\\$\\\\$), expensive (\\\\$\\\\$\\\\$\\\\$), and very expensive (\\\\$\\\\$\\\\$\\\\$) restaurants in North Carolina by Yelp rating. The more expensive restaurants in \\\\$\\\\$\\\\$ and \\\\$\\\\$\\\\$\\\\$ exist primarily in the 3.0 - 4.5 range of ratings, while \\\\$ and \\\\$\\\\$ constitute more of the lower rated establishments below 3.0 and the highest rated restaurants, at 5.0.  Most restauarants in our dataset are either inexpensive or moderately priced."
   ]
  },
  {
   "cell_type": "markdown",
   "metadata": {},
   "source": [
    "Now that we have performed some exploratory data analysis, we need to answer our original question about the importance of the power of Yelp price tiers and health inspection scores in influencing Yelp reviews. As an initial check, we analyze the correlation matrix of our variables. Since no correlation between different variables is close to 1 or -1, we can proceed with some confidence that we are not introducing multicollinearity."
   ]
  },
  {
   "cell_type": "code",
   "execution_count": 115,
   "metadata": {},
   "outputs": [
    {
     "data": {
      "text/html": [
       "<div>\n",
       "<style scoped>\n",
       "    .dataframe tbody tr th:only-of-type {\n",
       "        vertical-align: middle;\n",
       "    }\n",
       "\n",
       "    .dataframe tbody tr th {\n",
       "        vertical-align: top;\n",
       "    }\n",
       "\n",
       "    .dataframe thead th {\n",
       "        text-align: right;\n",
       "    }\n",
       "</style>\n",
       "<table border=\"1\" class=\"dataframe\">\n",
       "  <thead>\n",
       "    <tr style=\"text-align: right;\">\n",
       "      <th></th>\n",
       "      <th>yelp_rating</th>\n",
       "      <th>yelp_reviews</th>\n",
       "      <th>yelp_price</th>\n",
       "      <th>health_score</th>\n",
       "    </tr>\n",
       "  </thead>\n",
       "  <tbody>\n",
       "    <tr>\n",
       "      <th>yelp_rating</th>\n",
       "      <td>1.000000</td>\n",
       "      <td>0.225695</td>\n",
       "      <td>0.106224</td>\n",
       "      <td>0.071818</td>\n",
       "    </tr>\n",
       "    <tr>\n",
       "      <th>yelp_reviews</th>\n",
       "      <td>0.225695</td>\n",
       "      <td>1.000000</td>\n",
       "      <td>0.211605</td>\n",
       "      <td>-0.020370</td>\n",
       "    </tr>\n",
       "    <tr>\n",
       "      <th>yelp_price</th>\n",
       "      <td>0.106224</td>\n",
       "      <td>0.211605</td>\n",
       "      <td>1.000000</td>\n",
       "      <td>-0.016195</td>\n",
       "    </tr>\n",
       "    <tr>\n",
       "      <th>health_score</th>\n",
       "      <td>0.071818</td>\n",
       "      <td>-0.020370</td>\n",
       "      <td>-0.016195</td>\n",
       "      <td>1.000000</td>\n",
       "    </tr>\n",
       "  </tbody>\n",
       "</table>\n",
       "</div>"
      ],
      "text/plain": [
       "              yelp_rating  yelp_reviews  yelp_price  health_score\n",
       "yelp_rating      1.000000      0.225695    0.106224      0.071818\n",
       "yelp_reviews     0.225695      1.000000    0.211605     -0.020370\n",
       "yelp_price       0.106224      0.211605    1.000000     -0.016195\n",
       "health_score     0.071818     -0.020370   -0.016195      1.000000"
      ]
     },
     "execution_count": 115,
     "metadata": {},
     "output_type": "execute_result"
    }
   ],
   "source": [
    "df.corr()"
   ]
  },
  {
   "cell_type": "markdown",
   "metadata": {},
   "source": [
    "Finally, we seek to build some linear regression models to determine if the yelp price category or health inspection score is a stronger predictor of Yelp rating. From the ordinary least squares regression below, we can see that both Yelp price and health inspection score have some predictive power, as both variables procude a P-value below 0.5 (0.001 and 0.02, respectively). Unfortunately, an error signifying possible multicollinearity also appears. This is another limitation of this study that will be discussed further. Viewing the coefficient column, we can conclude that a change in Yelp price is related to a greater than in review score than a change in the health inspection score.  "
   ]
  },
  {
   "cell_type": "code",
   "execution_count": 116,
   "metadata": {},
   "outputs": [
    {
     "name": "stdout",
     "output_type": "stream",
     "text": [
      "                            OLS Regression Results                            \n",
      "==============================================================================\n",
      "Dep. Variable:            yelp_rating   R-squared:                       0.017\n",
      "Model:                            OLS   Adj. R-squared:                  0.015\n",
      "Method:                 Least Squares   F-statistic:                     8.361\n",
      "Date:                Wed, 16 Dec 2020   Prob (F-statistic):           0.000251\n",
      "Time:                        12:15:49   Log-Likelihood:                -1089.1\n",
      "No. Observations:                 988   AIC:                             2184.\n",
      "Df Residuals:                     985   BIC:                             2199.\n",
      "Df Model:                           2                                         \n",
      "Covariance Type:            nonrobust                                         \n",
      "================================================================================\n",
      "                   coef    std err          t      P>|t|      [0.025      0.975]\n",
      "--------------------------------------------------------------------------------\n",
      "Intercept        1.5331      0.752      2.039      0.042       0.057       3.009\n",
      "yelp_price       0.1380      0.041      3.399      0.001       0.058       0.218\n",
      "health_score     0.0183      0.008      2.328      0.020       0.003       0.034\n",
      "==============================================================================\n",
      "Omnibus:                       61.739   Durbin-Watson:                   1.979\n",
      "Prob(Omnibus):                  0.000   Jarque-Bera (JB):               71.870\n",
      "Skew:                          -0.638   Prob(JB):                     2.48e-16\n",
      "Kurtosis:                       3.344   Cond. No.                     3.09e+03\n",
      "==============================================================================\n",
      "\n",
      "Warnings:\n",
      "[1] Standard Errors assume that the covariance matrix of the errors is correctly specified.\n",
      "[2] The condition number is large, 3.09e+03. This might indicate that there are\n",
      "strong multicollinearity or other numerical problems.\n"
     ]
    }
   ],
   "source": [
    "# Generate a linear regression\n",
    "outcome, predictors = patsy.dmatrices('yelp_rating ~ yelp_price + health_score', df)\n",
    "mod = stats.OLS(outcome, predictors)\n",
    "res = mod.fit()\n",
    "print(res.summary())"
   ]
  },
  {
   "cell_type": "markdown",
   "metadata": {},
   "source": [
    "Since the possible increments of change in the health score are much smaller than the change in restaurant price, we convert the health score to ordinal categories corresponding to the possible health grades for a restaurant. Then, we perform the regression again using price ratings and health letter grades. Our conclusion remains unchanged however, an increase the Yelp price marking (and thus overall meal price) is related a stronger increase in overall Yelp review score than an improvement in the overall health and sanitation grade. However, with an adjusted R-squared of less than 0.02, the neither the price nor the health inspection score explain much of the variation in Yelp review score."
   ]
  },
  {
   "cell_type": "code",
   "execution_count": 117,
   "metadata": {},
   "outputs": [
    {
     "name": "stdout",
     "output_type": "stream",
     "text": [
      "                            OLS Regression Results                            \n",
      "==============================================================================\n",
      "Dep. Variable:            yelp_rating   R-squared:                       0.016\n",
      "Model:                            OLS   Adj. R-squared:                  0.014\n",
      "Method:                 Least Squares   F-statistic:                     8.100\n",
      "Date:                Wed, 16 Dec 2020   Prob (F-statistic):           0.000324\n",
      "Time:                        12:15:49   Log-Likelihood:                -1089.4\n",
      "No. Observations:                 988   AIC:                             2185.\n",
      "Df Residuals:                     985   BIC:                             2199.\n",
      "Df Model:                           2                                         \n",
      "Covariance Type:            nonrobust                                         \n",
      "================================================================================\n",
      "                   coef    std err          t      P>|t|      [0.025      0.975]\n",
      "--------------------------------------------------------------------------------\n",
      "Intercept        0.5738      1.222      0.469      0.639      -1.825       2.973\n",
      "yelp_price       0.1420      0.041      3.490      0.001       0.062       0.222\n",
      "health_grade     0.0270      0.012      2.214      0.027       0.003       0.051\n",
      "==============================================================================\n",
      "Omnibus:                       60.682   Durbin-Watson:                   1.972\n",
      "Prob(Omnibus):                  0.000   Jarque-Bera (JB):               70.423\n",
      "Skew:                          -0.633   Prob(JB):                     5.10e-16\n",
      "Kurtosis:                       3.332   Cond. No.                     5.25e+03\n",
      "==============================================================================\n",
      "\n",
      "Warnings:\n",
      "[1] Standard Errors assume that the covariance matrix of the errors is correctly specified.\n",
      "[2] The condition number is large, 5.25e+03. This might indicate that there are\n",
      "strong multicollinearity or other numerical problems.\n"
     ]
    }
   ],
   "source": [
    "# Generate a linear regression\n",
    "def health_score_to_grade(score):\n",
    "    if score < 70:\n",
    "        return 70 # failing grade\n",
    "    elif score < 80:\n",
    "        return 80 # grade of C\n",
    "    elif score < 90:\n",
    "        return 90 # grade of B\n",
    "    else:\n",
    "        return 100 # grade of A\n",
    "    \n",
    "df['health_grade'] = df['health_score'].apply(health_score_to_grade)\n",
    "outcome, predictors = patsy.dmatrices('yelp_rating ~ yelp_price + health_grade', df)\n",
    "mod = stats.OLS(outcome, predictors)\n",
    "res = mod.fit()\n",
    "print(res.summary())"
   ]
  },
  {
   "cell_type": "markdown",
   "metadata": {},
   "source": [
    "# Ethics & Privacy"
   ]
  },
  {
   "cell_type": "markdown",
   "metadata": {},
   "source": [
    "We must keep in mind that this data is all generated by individuals with their own biases - health inspectors can choose to provide leniency as they see fit (as we saw in the histogram), so the inspection scores are not purely subjective. Similarly, yelp review scores are provided by individiuals, so rating summarize the tastes and opinions for single persons. Even though we use aggregate individual scores into collective data points, these results should not be seen as perfect or objective, as the data is produced by us as humans, imperfect and subjective people.\n",
    "\n",
    "For this analysis, I am confident that I have the permission to use the dataset as it was provided by Dr. Ellis for this project. The dataset appears to use publicly available government inspection data as well as results from interactions with the Yelp API. To hide the identity of individual health inspectors, we have removed names and other identifiable from the dataset. Names of Yelp reviews are also not included in the dataset for the sake of privacy. We keep restaurant names in the dataset as of now to allow case studies of individual locations, but we will be receptive if any business asks to be removed from the dataset, and we will then rerun all analyses using the new dataset without that restaurant."
   ]
  },
  {
   "cell_type": "markdown",
   "metadata": {},
   "source": [
    "# Conclusion & Discussion"
   ]
  },
  {
   "cell_type": "markdown",
   "metadata": {},
   "source": [
    "In this project, we have analyses the interactions between Yelp reviews, Yelp price tiers, and health inspection scores. We used two datasets, one of Yelp reviews and one of North Carolina health inspections. To start, we standardized addresses between the two datasets so that we could combine Yelp star ratings and health inspection scores for the same businesses. We then cleaned and standardized pricing data to fix improper data entry, and used only the most recent health inspection for each restaurant. Then, we performed exploratory data analysis to view the distributions and interactions of our different measured variables. Finally, we used an ordinary least squares regression to determine that menu pricing tier is a more important determinant for Yelp aggregate review score than either a health inspection score or health inspection grade.\n",
    "\n",
    "This project has numerous limitations, both due to time constrains as well as data constraints. One limitation is that health inspection scores to not vary much outside of the highest grade of \"A\". Since most restaurants are given an A rating, and most customers can only see the categorical letter grade rating rather than the numerical score, there does not seem to be a reason why customers would have preference for one restauarant over another based on small differences in health scores. Another limitation is the use of a linear regression model, when it may not have been the best fit of the non-continuous data. Since Yelp reviews are rounded to the nearest half-star for reporting, we lose the ability to differentiate ratings along a continous scale rather than a discrete, ordinal one. This research is important in determining how restaurants can influence customers to leave positive Yelp reviews, which is an import method of advertising and reputation-building for companies. Additional text data from Yelp would allow us to detect direct references to health and safety violations, following a similar data analysis to reference [3] studying the interaction of social media and health inspections. Further exploration of this topic, given more time, could explore the interactions Yelp reviews and health inspections from this new angle."
   ]
  },
  {
   "cell_type": "markdown",
   "metadata": {},
   "source": [
    "#### Thanks to all the COGS 108 instructional staff for a great COVID quarter!"
   ]
  }
 ],
 "metadata": {
  "kernelspec": {
   "display_name": "Python 3",
   "language": "python",
   "name": "python3"
  },
  "language_info": {
   "codemirror_mode": {
    "name": "ipython",
    "version": 3
   },
   "file_extension": ".py",
   "mimetype": "text/x-python",
   "name": "python",
   "nbconvert_exporter": "python",
   "pygments_lexer": "ipython3",
   "version": "3.7.6"
  }
 },
 "nbformat": 4,
 "nbformat_minor": 2
}
